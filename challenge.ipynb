{
 "cells": [
  {
   "cell_type": "markdown",
   "metadata": {},
   "source": [
    "# THE MNIST DATABASE of handwritten digits\n",
    "\n",
    "All data came from [MNIST](http://yann.lecun.com/exdb/mnist/)\n",
    "\n",
    "The MNIST training set is composed of 30,000 patterns from SD-3 and 30,000 patterns from SD-1. Our test set was composed of 5,000 patterns from SD-3 and 5,000 patterns from SD-1. The 60,000 pattern training set contained examples from approximately 250 writers. We made sure that the sets of writers of the training set and test set were disjoint.\n",
    "\n",
    "SD-1 contains 58,527 digit images written by 500 different writers. In contrast to SD-3, where blocks of data from each writer appeared in sequence, the data in SD-1 is scrambled. Writer identities for SD-1 is available and we used this information to unscramble the writers. We then split SD-1 in two: characters written by the first 250 writers went into our new training set. The remaining 250 writers were placed in our test set. Thus we had two sets with nearly 30,000 examples each. The new training set was completed with enough examples from SD-3, starting at pattern # 0, to make a full set of 60,000 training patterns. Similarly, the new test set was completed with SD-3 examples starting at pattern # 35,000 to make a full set with 60,000 test patterns. Only a subset of 10,000 test images (5,000 from SD-1 and 5,000 from SD-3) is available on this site. The full 60,000 sample training set is available.\n",
    "\n"
   ]
  },
  {
   "cell_type": "code",
   "execution_count": 1,
   "metadata": {
    "collapsed": true
   },
   "outputs": [],
   "source": [
    "import numpy as np\n",
    "import matplotlib.pyplot as plt\n",
    "import mnistReader as mnist\n",
    "import random\n",
    "\n",
    "trainData = mnist.read_train_data()\n",
    "taskData = mnist.read_task_data()\n",
    "\n",
    "# magic!!\n",
    "%matplotlib inline"
   ]
  },
  {
   "cell_type": "markdown",
   "metadata": {},
   "source": [
    "## Show the MNIST Data"
   ]
  },
  {
   "cell_type": "code",
   "execution_count": 27,
   "metadata": {
    "collapsed": true
   },
   "outputs": [],
   "source": [
    "\n",
    "def showMNISTData(datas):\n",
    "    \"\"\"\n",
    "    show 10 datas\n",
    "    the data is the shape of (imgs, labels)\n",
    "    \"\"\"\n",
    "    imgs, labs = datas\n",
    "    N, W, H = imgs.shape\n",
    "    plt.rcParams['image.cmap'] = 'gray'\n",
    "    for i in range(10):\n",
    "        plt.subplot(2, 5, i+1)\n",
    "        plt.imshow(imgs[i])\n",
    "        plt.title('%d'%labs[i])\n",
    "        plt.gca().axis('off')\n",
    "    plt.show()    "
   ]
  },
  {
   "cell_type": "code",
   "execution_count": 28,
   "metadata": {},
   "outputs": [
    {
     "data": {
      "image/png": "[encoded data removed]",
      "text/plain": [
       "<matplotlib.figure.Figure at 0x7f626f7e60f0>"
      ]
     },
     "metadata": {},
     "output_type": "display_data"
    }
   ],
   "source": [
    "showMNISTData(trainData)"
   ]
  },
  {
   "cell_type": "code",
   "execution_count": 2,
   "metadata": {
    "collapsed": true
   },
   "outputs": [],
   "source": [
    "from utils.layers import *\n",
    "import importlib\n",
    "import model\n",
    "from model import NNModel"
   ]
  },
  {
   "cell_type": "code",
   "execution_count": 9,
   "metadata": {
    "collapsed": true
   },
   "outputs": [],
   "source": [
    "importlib.reload(model)\n",
    "import model\n",
    "from model import NNModel\n",
    "# trainData[0].shape = (60000,28,28)\n",
    "# trainData[1].shape = (60000,)\n",
    "# the NNModel already have his structure\n",
    "nn = NNModel()"
   ]
  },
  {
   "cell_type": "markdown",
   "metadata": {},
   "source": [
    "## build a model\n",
    "\n",
    "let's make a 2 layer model\n",
    "FC->ReLU->FC->ReLU->SVM"
   ]
  },
  {
   "cell_type": "code",
   "execution_count": 13,
   "metadata": {
    "collapsed": true
   },
   "outputs": [],
   "source": [
    "nn = NNModel()"
   ]
  },
  {
   "cell_type": "code",
   "execution_count": 16,
   "metadata": {
    "scrolled": false
   },
   "outputs": [
    {
     "name": "stdout",
     "output_type": "stream",
     "text": [
      "epochs 10 loss 2443.79333158 accuracy 0.983783333333\n",
      "epochs 20 loss 1422.6283682 accuracy 0.988216666667\n",
      "epochs 30 loss 779.559123939 accuracy 0.992366666667\n",
      "epochs 40 loss 469.006572991 accuracy 0.993766666667\n",
      "epochs 50 loss 253.628625542 accuracy 0.995916666667\n",
      "epochs 60 loss 142.72688889 accuracy 0.997333333333\n",
      "epochs 70 loss 79.0515341779 accuracy 0.998133333333\n",
      "epochs 80 loss 46.7426268906 accuracy 0.998716666667\n",
      "epochs 90 loss 35.844225016 accuracy 0.998983333333\n",
      "epochs 100 loss 12.7079529188 accuracy 0.999733333333\n",
      "epochs 110 loss 5.30391341328 accuracy 0.999883333333\n",
      "epochs 120 loss 2.786577755 accuracy 0.999933333333\n",
      "epochs 130 loss 0.607156517569 accuracy 0.999866666667\n",
      "epochs 140 loss 0.0 accuracy 1.0\n",
      "epochs 150 loss 0.0 accuracy 1.0\n",
      "epochs 160 loss 0.0 accuracy 1.0\n",
      "epochs 170 loss 0.0 accuracy 1.0\n",
      "epochs 180 loss 0.0 accuracy 1.0\n",
      "epochs 190 loss 0.0 accuracy 1.0\n",
      "epochs 200 loss 0.0 accuracy 1.0\n"
     ]
    },
    {
     "data": {
      "image/png": "[encoded data removed]",
      "text/plain": [
       "<matplotlib.figure.Figure at 0x7f6278047e48>"
      ]
     },
     "metadata": {},
     "output_type": "display_data"
    }
   ],
   "source": [
    "loss, acc = nn.train(trainData[0], trainData[1], 200, batchs=1000, learning_rate=1e-3, display_per_epoch=10)\n",
    "plt.plot(np.array(loss))\n",
    "plt.plot(np.array(acc))\n",
    "plt.show()"
   ]
  },
  {
   "cell_type": "markdown",
   "metadata": {},
   "source": [
    "## Test the data"
   ]
  },
  {
   "cell_type": "code",
   "execution_count": 17,
   "metadata": {},
   "outputs": [
    {
     "name": "stdout",
     "output_type": "stream",
     "text": [
      "100.0 %\n"
     ]
    }
   ],
   "source": [
    "out = nn.runModel(trainData[0])\n",
    "outLab = np.argmax(out, axis=1)\n",
    "result = np.sum(outLab == trainData[1])\n",
    "print((result/60000) * 100, '%')"
   ]
  },
  {
   "cell_type": "code",
   "execution_count": 29,
   "metadata": {},
   "outputs": [
    {
     "name": "stdout",
     "output_type": "stream",
     "text": [
      "[7 3 2 0 9 8 6 6 2 1]\n",
      "[7 3 2 0 9 8 6 6 2 1]\n"
     ]
    },
    {
     "data": {
      "image/png": "[encoded data removed]",
      "text/plain": [
       "<matplotlib.figure.Figure at 0x7f626f5ed358>"
      ]
     },
     "metadata": {},
     "output_type": "display_data"
    }
   ],
   "source": [
    "# test train data first\n",
    "inddx = np.random.choice(60000, 10)\n",
    "sampedImg = trainData[0][inddx]\n",
    "sampedLab = trainData[1][inddx]\n",
    "out = nn.runModel(sampedImg)\n",
    "outLab = np.argmax(out, axis=1)\n",
    "print(outLab)\n",
    "print(sampedLab)\n",
    "showMNISTData((sampedImg, outLab))"
   ]
  },
  {
   "cell_type": "code",
   "execution_count": 36,
   "metadata": {},
   "outputs": [
    {
     "name": "stdout",
     "output_type": "stream",
     "text": [
      "94.81 %\n"
     ]
    }
   ],
   "source": [
    "out = nn.runModel(taskData[0])\n",
    "outLab = np.argmax(out, axis=1)\n",
    "result = np.sum(outLab == taskData[1])\n",
    "print((result/10000) * 100, '%')"
   ]
  },
  {
   "cell_type": "code",
   "execution_count": 35,
   "metadata": {},
   "outputs": [
    {
     "name": "stdout",
     "output_type": "stream",
     "text": [
      "[6 6 8 5 7 1 9 8 1 9]\n",
      "[6 6 8 5 7 1 9 9 1 9]\n"
     ]
    },
    {
     "data": {
      "image/png": "[encoded data removed]",
      "text/plain": [
       "<matplotlib.figure.Figure at 0x7f62691bae48>"
      ]
     },
     "metadata": {},
     "output_type": "display_data"
    }
   ],
   "source": [
    "# test task data\n",
    "inddx = np.random.choice(10000, 10)\n",
    "sampedImg = taskData[0][inddx]\n",
    "sampedLab = taskData[1][inddx]\n",
    "out = nn.runModel(sampedImg)\n",
    "outLab = np.argmax(out, axis=1)\n",
    "print(outLab)\n",
    "print(sampedLab)\n",
    "showMNISTData((sampedImg, outLab))"
   ]
  },
  {
   "cell_type": "markdown",
   "metadata": {},
   "source": [
    "## save model\n"
   ]
  },
  {
   "cell_type": "code",
   "execution_count": 42,
   "metadata": {},
   "outputs": [],
   "source": [
    "import pickle\n",
    "with open(\"model_trained.nn\", 'wb') as f:                     # open file with write-mode\n",
    "    picklestring = pickle.dump(nn, f)   # serialize and save object\n"
   ]
  },
  {
   "cell_type": "code",
   "execution_count": 43,
   "metadata": {
    "collapsed": true
   },
   "outputs": [],
   "source": [
    "nn_check = None\n",
    "with open(\"model_trained.nn\", 'rb') as f:\n",
    "    nn_check = pickle.load(f)   # read file and build object"
   ]
  },
  {
   "cell_type": "code",
   "execution_count": 44,
   "metadata": {},
   "outputs": [
    {
     "name": "stdout",
     "output_type": "stream",
     "text": [
      "[5 6 2 7 5 1 9 7 7 4]\n",
      "[5 6 2 7 5 1 9 7 7 4]\n"
     ]
    },
    {
     "data": {
      "image/png": "[encoded data removed]",
      "text/plain": [
       "<matplotlib.figure.Figure at 0x7f626fa98550>"
      ]
     },
     "metadata": {},
     "output_type": "display_data"
    }
   ],
   "source": [
    "inddx = np.random.choice(10000, 10)\n",
    "sampedImg = taskData[0][inddx]\n",
    "sampedLab = taskData[1][inddx]\n",
    "out = nn_check.runModel(sampedImg)\n",
    "outLab = np.argmax(out, axis=1)\n",
    "print(outLab)\n",
    "print(sampedLab)\n",
    "showMNISTData((sampedImg, outLab))"
   ]
  }
 ],
 "metadata": {
  "kernelspec": {
   "display_name": "Python 3",
   "language": "python",
   "name": "python3"
  },
  "language_info": {
   "codemirror_mode": {
    "name": "ipython",
    "version": 3
   },
   "file_extension": ".py",
   "mimetype": "text/x-python",
   "name": "python",
   "nbconvert_exporter": "python",
   "pygments_lexer": "ipython3",
   "version": "3.6.3"
  }
 },
 "nbformat": 4,
 "nbformat_minor": 2
}
