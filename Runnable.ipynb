{
 "cells": [
  {
   "cell_type": "markdown",
   "metadata": {},
   "source": [
    "# This is a runnable file\n",
    "\n",
    "Before you run this code, please make sure you'd put all the data we need to MNIST dir.\n",
    "You can read README.md for more information.\n"
   ]
  },
  {
   "cell_type": "markdown",
   "metadata": {},
   "source": [
    "Load the packages"
   ]
  },
  {
   "cell_type": "code",
   "execution_count": 1,
   "metadata": {
    "collapsed": true
   },
   "outputs": [],
   "source": [
    "import numpy as np\n",
    "import matplotlib.pyplot as plt\n",
    "import mnistReader as mnist\n",
    "from utils.layers import *\n",
    "from model import NNModel\n",
    "\n",
    "trainData = mnist.read_train_data()\n",
    "taskData = mnist.read_task_data()\n",
    "\n",
    "# magic!!\n",
    "%matplotlib inline"
   ]
  },
  {
   "cell_type": "markdown",
   "metadata": {},
   "source": [
    "## Show 10 MNIST imges and label"
   ]
  },
  {
   "cell_type": "code",
   "execution_count": 2,
   "metadata": {},
   "outputs": [
    {
     "data": {
      "image/png": "[encoded data removed]",
      "text/plain": [
       "<matplotlib.figure.Figure at 0x7f7cb81b58d0>"
      ]
     },
     "metadata": {},
     "output_type": "display_data"
    }
   ],
   "source": [
    "def showMNISTData(datas):\n",
    "    \"\"\"\n",
    "    show 10 datas\n",
    "    the data is the shape of (imgs, labels)\n",
    "    \"\"\"\n",
    "    imgs, labs = datas\n",
    "    N, W, H = imgs.shape\n",
    "    plt.rcParams['image.cmap'] = 'gray'\n",
    "    for i in range(10):\n",
    "        plt.subplot(2, 5, i+1)\n",
    "        plt.imshow(imgs[i])\n",
    "        plt.title('%d'%labs[i])\n",
    "        plt.gca().axis('off')\n",
    "    plt.show()    \n",
    "showMNISTData(trainData)"
   ]
  },
  {
   "cell_type": "markdown",
   "metadata": {},
   "source": [
    "## Build a model\n",
    "\n",
    "The model file is model.py"
   ]
  },
  {
   "cell_type": "code",
   "execution_count": 3,
   "metadata": {
    "collapsed": true
   },
   "outputs": [],
   "source": [
    "# create a new model\n",
    "nn = NNModel()"
   ]
  },
  {
   "cell_type": "markdown",
   "metadata": {},
   "source": [
    "Train the model for 20 times will get accuracy about 90%. If you train it more than 150 times, you will get accuracy of 100%.\n",
    "This will take a lot of time. So, take a break."
   ]
  },
  {
   "cell_type": "code",
   "execution_count": 4,
   "metadata": {},
   "outputs": [
    {
     "name": "stdout",
     "output_type": "stream",
     "text": [
      "epochs 10 loss 139911.80394 accuracy 0.865533333333\n",
      "epochs 20 loss 75245.6740638 accuracy 0.906233333333\n"
     ]
    },
    {
     "data": {
      "image/png": "[encoded data removed]",
      "text/plain": [
       "<matplotlib.figure.Figure at 0x7f7c9a29ad30>"
      ]
     },
     "metadata": {},
     "output_type": "display_data"
    }
   ],
   "source": [
    "loss, acc = nn.train(trainData[0], trainData[1], 20, batchs=1000, learning_rate=1e-3, display_per_epoch=10)\n",
    "plt.plot(np.array(loss))\n",
    "plt.plot(np.array(acc))\n",
    "plt.show()"
   ]
  },
  {
   "cell_type": "markdown",
   "metadata": {},
   "source": [
    "## Show the train result"
   ]
  },
  {
   "cell_type": "code",
   "execution_count": 5,
   "metadata": {},
   "outputs": [
    {
     "name": "stdout",
     "output_type": "stream",
     "text": [
      "89.96 %\n"
     ]
    }
   ],
   "source": [
    "# see how do the model work on task dataset\n",
    "out = nn.runModel(taskData[0])\n",
    "outLab = np.argmax(out, axis=1)\n",
    "result = np.sum(outLab == taskData[1])\n",
    "print((result/10000) * 100, '%')"
   ]
  },
  {
   "cell_type": "code",
   "execution_count": 6,
   "metadata": {},
   "outputs": [
    {
     "name": "stdout",
     "output_type": "stream",
     "text": [
      "[8 2 6 0 1 8 1 5 6 4]\n",
      "[8 2 6 0 1 8 1 5 6 4]\n"
     ]
    },
    {
     "data": {
      "image/png": "[encoded data removed]",
      "text/plain": [
       "<matplotlib.figure.Figure at 0x7f7c953e0c88>"
      ]
     },
     "metadata": {},
     "output_type": "display_data"
    }
   ],
   "source": [
    "# test task data\n",
    "inddx = np.random.choice(10000, 10)\n",
    "sampedImg = taskData[0][inddx]\n",
    "sampedLab = taskData[1][inddx]\n",
    "out = nn.runModel(sampedImg)\n",
    "outLab = np.argmax(out, axis=1)\n",
    "print(outLab)\n",
    "print(sampedLab)\n",
    "showMNISTData((sampedImg, outLab))"
   ]
  },
  {
   "cell_type": "markdown",
   "metadata": {},
   "source": [
    "## Save/Load the model\n",
    "\n",
    "If you want to save the model, run the code below. If not, just ignore this."
   ]
  },
  {
   "cell_type": "code",
   "execution_count": null,
   "metadata": {
    "collapsed": true
   },
   "outputs": [],
   "source": [
    "# save nn\n",
    "import pickle\n",
    "with open(\"model_trained.nn\", 'wb') as f:\n",
    "    picklestring = pickle.dump(nn, f)"
   ]
  },
  {
   "cell_type": "code",
   "execution_count": null,
   "metadata": {
    "collapsed": true
   },
   "outputs": [],
   "source": [
    "# read nn\n",
    "nn_check = None\n",
    "with open(\"model_trained.nn\", 'rb') as f:\n",
    "    nn_check = pickle.load(f)"
   ]
  }
 ],
 "metadata": {
  "kernelspec": {
   "display_name": "Python 3",
   "language": "python",
   "name": "python3"
  },
  "language_info": {
   "codemirror_mode": {
    "name": "ipython",
    "version": 3
   },
   "file_extension": ".py",
   "mimetype": "text/x-python",
   "name": "python",
   "nbconvert_exporter": "python",
   "pygments_lexer": "ipython3",
   "version": "3.6.3"
  }
 },
 "nbformat": 4,
 "nbformat_minor": 2
}
